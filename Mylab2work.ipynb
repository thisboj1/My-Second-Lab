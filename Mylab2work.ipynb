{
 "cells": [
  {
   "cell_type": "code",
   "execution_count": null,
   "id": "7f387b2b-1222-4a9d-b39e-a007505ba296",
   "metadata": {},
   "outputs": [],
   "source": [
    "# Лабораторная работа №2\n",
    "## Выполнил студент группы БСТ2201 Боджанг М.Л."
   ]
  },
  {
   "cell_type": "code",
   "execution_count": null,
   "id": "53c27e29-69ec-4da8-8e84-d701bb2d0a7e",
   "metadata": {},
   "outputs": [],
   "source": [
    "Создадим два класса для работы"
   ]
  },
  {
   "cell_type": "code",
   "execution_count": 1,
   "id": "519c2165-765b-48a0-b8ac-e44d19744cba",
   "metadata": {},
   "outputs": [],
   "source": [
    "class Stack:\n",
    "    # инициализация\n",
    "    def __init__(self):\n",
    "        self.items = []\n",
    "    # проверка на пустоту\n",
    "    def isEmpty(self):\n",
    "        return self.items == []\n",
    "    # добавить элемент\n",
    "    def push(self, item):\n",
    "        self.items.append(item)\n",
    "    # удалить элемент\n",
    "    def pop(self):\n",
    "        return self.items.pop()\n",
    "    # развернуть \n",
    "    def reverse(self):\n",
    "        self.items.reverse()\n",
    "# класс для работы с Deque\n",
    "class Deque:\n",
    "    # инициализация\n",
    "    def __init__(self):\n",
    "        self.items = []\n",
    "    # проверка на пустоту\n",
    "    def isEmpty(self):\n",
    "        return self.items == []\n",
    "    # добавить вправо\n",
    "    def append(self, item):\n",
    "        self.items.append(item)\n",
    "    # добавить влево\n",
    "    def appendleft(self, item): \n",
    "        self.items.insert(0, item)\n",
    "    # удалить справа\n",
    "    def pop(self):\n",
    "        return self.items.pop()\n",
    "     # удалить слева\n",
    "    def popleft(self):\n",
    "        return self.items.pop(0)\n",
    "    # вернуть элемент без удаления\n",
    "    def peek(self):\n",
    "        return self.items[-1]\n",
    "     # развернуть \n",
    "    def reverse(self):\n",
    "        self.items.reverse()\n",
    "    # получить длину\n",
    "    def __len__(self):\n",
    "        return len(self.items)"
   ]
  },
  {
   "cell_type": "code",
   "execution_count": 2,
   "id": "057c084d-b551-4668-9447-583fd20b7b82",
   "metadata": {},
   "outputs": [],
   "source": [
    "# Функция для чтения текста из файла\n",
    "def read_file(filename):\n",
    "    with open(filename, 'r', encoding = \"utf-8\") as file:\n",
    "        return [row.strip() for row in file]\n",
    "\n",
    "# Функция для загрузки в файла\n",
    "def save_to_file(filename, result):\n",
    "    with open(filename, 'w', encoding = \"utf-8\") as f:\n",
    "        if isinstance(result, str):\n",
    "            f.write(result + \"\\n\")\n",
    "        else:\n",
    "            for item in result:\n",
    "                f.write(str(item) + \"\\n\")"
   ]
  },
  {
   "cell_type": "code",
   "execution_count": null,
   "id": "2da0bfec-9fe4-4fd7-b96b-00cda86bab6d",
   "metadata": {},
   "outputs": [],
   "source": [
    "### Задание №1\n",
    "Отсортировать строки файла, содержащие названия книг, в алфавитном порядке с использованием двух деков."
   ]
  },
  {
   "cell_type": "code",
   "execution_count": 7,
   "id": "adf0a5ea-31a3-4a94-b95b-5062369c8acc",
   "metadata": {},
   "outputs": [
    {
     "name": "stdout",
     "output_type": "stream",
     "text": [
      "Маша\n",
      "Омар\n",
      "Россия\n",
      "учеба работа\n"
     ]
    }
   ],
   "source": [
    "# функция для сортировки названий книг\n",
    "def sort_books(input_file_path):\n",
    "  deq, sort_deq = [Deque() for _ in range(2)]\n",
    "  [deq.append(book.strip()) for book in books]\n",
    "  while not deq.isEmpty():\n",
    "    element = deq.pop()\n",
    "    # пока sort_deq не пустой и element меньше чем последний в sort_deq\n",
    "    while not sort_deq.isEmpty() and element < sort_deq.peek():\n",
    "      # добавляем в deq последний элемент sort_deq\n",
    "      deq.append(sort_deq.pop())\n",
    "    sort_deq.append(element)\n",
    "  # вызов функции сохранения в файл\n",
    "  save_to_file(\"test1.txt\", sort_deq.items)\n",
    "  while not sort_deq.isEmpty():\n",
    "    print(sort_deq.popleft())\n",
    "# вызов функции чтения из файл\n",
    "books = read_file(\"task1.txt\")\n",
    "sort_books(books)"
   ]
  },
  {
   "cell_type": "code",
   "execution_count": null,
   "id": "ba475d99-2d65-4ec7-95de-81a1604ee8d5",
   "metadata": {},
   "outputs": [],
   "source": [
    "### Задание №2\n",
    "Дек содержит последовательность символов для шифровки сообщений. Дан текстовый файл, содержащий зашифрованное сообщение. Пользуясь деком, расшифровать текст. \n",
    "Известно, что при шифровке каждый символ сообщения заменялся следующим за ним в деке по часовой стрелке через один."
   ]
  },
  {
   "cell_type": "code",
   "execution_count": 10,
   "id": "6c276c59-803c-4558-b28a-a537300bed5b",
   "metadata": {},
   "outputs": [
    {
     "data": {
      "text/plain": [
       "'код от домофона - 23341!'"
      ]
     },
     "execution_count": 10,
     "metadata": {},
     "output_type": "execute_result"
    }
   ],
   "source": [
    "# функция для расшифровки текста\n",
    "def decode_text(input_file_path):\n",
    "  deq = Deque()\n",
    "  [deq.append(letter) for letter in 'абвгдеёжзийклмнопрстуфхцчшщъыьэюя']\n",
    "  decrypted_text = \"\"\n",
    "  # функция для расшифровки каждого символа\n",
    "  def decryptText(variable):\n",
    "    for letter in range(len(deq)):\n",
    "      symbol = deq.popleft()\n",
    "      # если наш извлеченный символ из дека == сравниваемому из текста\n",
    "      if symbol == variable:\n",
    "        # добавляем наш извлеченный символ из дека в конец дека\n",
    "        deq.append(symbol)\n",
    "        # извлечем след. символ после symbol\n",
    "        next_symbol = deq.popleft()\n",
    "        # посместим его в конец списка\n",
    "        deq.append(next_symbol)\n",
    "        # вернем последний извлченный символ для добавления в decrypted_text\n",
    "        return next_symbol\n",
    "      deq.append(symbol)\n",
    "\n",
    "  for string in decode:\n",
    "    for symbol in string.lower():\n",
    "      decode_symbol = decryptText(symbol)\n",
    "      # проверяет, произошло ли шифрование\n",
    "      if decode_symbol:\n",
    "          decrypted_text += decode_symbol\n",
    "      else:\n",
    "          decrypted_text += symbol\n",
    "  # вызов функции сохранения в файл\n",
    "  save_to_file(\"test2.txt\", decrypted_text)\n",
    "  return decrypted_text\n",
    "# вызов функции чтения из файл\n",
    "decode = read_file(\"task2.txt\")\n",
    "decode_text(decode)"
   ]
  },
  {
   "cell_type": "code",
   "execution_count": null,
   "id": "43087a92-3463-4659-b02b-e00f48483e64",
   "metadata": {},
   "outputs": [],
   "source": [
    "### Задание №3\n",
    "Даны три стержня и n дисков различного размера. Диски можно надевать на стержни, образуя из них башни. Перенести n дисков со стержня А на стержень С, сохранив их первоначальный порядок. При переносе дисков необходимо соблюдать следующие правила:\n",
    "- на каждом шаге со стержня на стержень переносить только один диск;\n",
    "- диск нельзя помещать на диск меньшего размера;\n",
    "- для промежуточного хранения можно использовать стержень В.\n",
    "Реализовать алгоритм, используя три стека вместо стержней А, В, С. Информация о дисках хранится в исходном файле."
   ]
  },
  {
   "cell_type": "code",
   "execution_count": 11,
   "id": "6c41cc1a-c24a-4100-82c3-d089fec341c8",
   "metadata": {},
   "outputs": [
    {
     "name": "stdout",
     "output_type": "stream",
     "text": [
      "Состояние стержня A: [3, 2, 1]\n",
      "Move disk 1 from rod A to rod C\n",
      "Move disk 2 from rod A to rod B\n",
      "Move disk 1 from rod C to rod B\n",
      "Move disk 3 from rod A to rod C\n",
      "Move disk 1 from rod B to rod A\n",
      "Move disk 2 from rod B to rod C\n",
      "Move disk 1 from rod A to rod C\n",
      "Состояние стержня C: [3, 2, 1]\n"
     ]
    }
   ],
   "source": [
    "def hanoi_tower(input_file_path):\n",
    "  A, C, B = [Stack() for _ in range(3)]\n",
    "  # положим диски в A начиная с n (большего)\n",
    "  [A.push(disk) for disk in range(n, 0, -1)]\n",
    "  # динамическое добавление атрибута\n",
    "  A.name,C.name,B.name = \"A\", \"C\", \"B\"\n",
    "  print(f'Состояние стержня A: {A.items}')\n",
    "  # функция для движения дисков (решение рекурсией)\n",
    "  def move_disks(n, start, end, middle):\n",
    "    if n == 1:\n",
    "      end.push(start.pop())\n",
    "      print(f'Move disk 1 from rod {start.name} to rod {end.name}')\n",
    "      return\n",
    "    else:\n",
    "      move_disks(n-1, start, middle, end)\n",
    "      print(f'Move disk {n} from rod {start.name} to rod {end.name}')\n",
    "      end.push(start.pop())\n",
    "      move_disks(n-1, middle, end, start)\n",
    "  # вызов функции и результата\n",
    "  move_disks(n, A, C, B)\n",
    "  C.reverse()\n",
    "  save_to_file(\"test3.txt\", C.items)\n",
    "  C.reverse()\n",
    "  return print(f'Состояние стержня C: {C.items}')\n",
    "n = int(read_file(\"task3.txt\")[0])\n",
    "hanoi_tower(n)"
   ]
  },
  {
   "cell_type": "code",
   "execution_count": null,
   "id": "e1270eec-f423-48ad-9258-c334c944cd88",
   "metadata": {},
   "outputs": [],
   "source": [
    "### Задание №4\n",
    "Дан текстовый файл с программой на алгоритмическом языке. За один просмотр файла проверить баланс круглых скобок в тексте, используя стек.\n"
   ]
  },
  {
   "cell_type": "code",
   "execution_count": 12,
   "id": "57f18654-89c9-4d8f-830a-53fdd3ecef95",
   "metadata": {},
   "outputs": [
    {
     "data": {
      "text/plain": [
       "True"
      ]
     },
     "execution_count": 12,
     "metadata": {},
     "output_type": "execute_result"
    }
   ],
   "source": [
    "def balance_round_brackets(input_file_path):\n",
    "  balance = Stack()\n",
    "  test = [symbol for row in text for symbol in row]\n",
    "  for symbol in test:\n",
    "    if symbol == \"(\":\n",
    "      balance.push(symbol)\n",
    "    elif symbol == \")\":\n",
    "      if balance.isEmpty():\n",
    "        return False\n",
    "      balance.pop()\n",
    "  # вызов функции сохранения в файл\n",
    "  save_to_file(\"test4.txt\", str(balance.isEmpty()))\n",
    "  # вернем True/False\n",
    "  return balance.isEmpty()\n",
    "# вызов функции чтения из файл\n",
    "text = read_file(\"task4.txt\")\n",
    "balance_round_brackets(text)"
   ]
  },
  {
   "cell_type": "code",
   "execution_count": null,
   "id": "92eb5ff5-0e66-4bc1-85f1-d591015a6d95",
   "metadata": {},
   "outputs": [],
   "source": [
    "### Задание №5\n",
    "Дан текстовый файл с программой на алгоритмическом языке. За один просмотр файла проверить баланс квадратных скобок в тексте, используя дек.\n"
   ]
  },
  {
   "cell_type": "code",
   "execution_count": 11,
   "id": "e554c633-4e65-4ec4-ba02-7564b5ec761e",
   "metadata": {},
   "outputs": [
    {
     "data": {
      "text/plain": [
       "False"
      ]
     },
     "execution_count": 11,
     "metadata": {},
     "output_type": "execute_result"
    }
   ],
   "source": [
    "def balance_square_brackets(input_file_path):\n",
    "  balance = Deque()\n",
    "  test = [symbol for row in text for symbol in row]\n",
    "  for symbol in test:\n",
    "    if symbol == \"[\":\n",
    "      balance.append(symbol)\n",
    "    elif symbol == \"]\":\n",
    "      if balance.isEmpty():\n",
    "        return False\n",
    "      balance.pop()\n",
    "  # вызов функции сохранения в файл\n",
    "  save_to_file(\"test5.txt\", str(balance.isEmpty()))\n",
    "  # вернем True/False\n",
    "  return balance.isEmpty()\n",
    "# вызов функции чтения из файл\n",
    "text = read_file(\"task5.txt\")\n",
    "balance_square_brackets(text)"
   ]
  },
  {
   "cell_type": "code",
   "execution_count": null,
   "id": "0c787ca4-5049-472d-ae30-ff1b3f5a1c4a",
   "metadata": {},
   "outputs": [],
   "source": [
    "### Задание №6\n",
    "Дан файл из символов. Используя стек, за один просмотр файла напечатать сначала все цифры, затем все буквы, и, наконец, все остальные символы, сохраняя исходный порядок в каждой группе символов.\n"
   ]
  },
  {
   "cell_type": "code",
   "execution_count": 17,
   "id": "2719d761-e200-4d5f-9ed9-2c73941e4c70",
   "metadata": {},
   "outputs": [
    {
     "data": {
      "text/plain": [
       "'1237ПриветМирКакдела,!_@  ?'"
      ]
     },
     "execution_count": 17,
     "metadata": {},
     "output_type": "execute_result"
    }
   ],
   "source": [
    "def sort_text(input_file_path):\n",
    "  stack = Stack()\n",
    "  new_doc = \"\"\n",
    "  for word in text:\n",
    "    for symbol in word:\n",
    "      # добавление в строку чисел иначе в стек\n",
    "      if symbol.isdigit():\n",
    "        new_doc += symbol\n",
    "      else:\n",
    "        stack.push(symbol)\n",
    "    # добавление в строку букв\n",
    "    for item in stack.items:\n",
    "      if item.isalpha():\n",
    "        new_doc += item\n",
    "    # добавление в строку остальных символов\n",
    "    for item in stack.items:\n",
    "      if not item.isalpha():\n",
    "        new_doc += item\n",
    "\n",
    "  # вызов функции сохранения в файл\n",
    "  save_to_file(\"test6.txt\", new_doc)\n",
    "  return new_doc\n",
    "# вызов функции чтения из файл\n",
    "text = read_file(\"task6.txt\")\n",
    "sort_text(text)"
   ]
  },
  {
   "cell_type": "code",
   "execution_count": null,
   "id": "452941d5-2650-4f84-9ed8-dbf7f19b9405",
   "metadata": {},
   "outputs": [],
   "source": [
    "### Задание №7\n",
    "Дан файл из целых чисел. Используя дек, за один просмотр файла напечатать сначала все отрицательные числа, затем все положительные числа, сохраняя исходный порядок в каждой группе.\n"
   ]
  },
  {
   "cell_type": "code",
   "execution_count": 6,
   "id": "1dac689a-a9ed-4464-be2a-657fae31cdcf",
   "metadata": {},
   "outputs": [
    {
     "name": "stdout",
     "output_type": "stream",
     "text": [
      "-52\n",
      "-9\n",
      "-5\n",
      "51351\n",
      "50\n",
      "20\n",
      "7\n",
      "8\n",
      "2\n",
      "55\n"
     ]
    }
   ],
   "source": [
    "def sort_digits(input_file_path):\n",
    "  deq = Deque()\n",
    "  digits = [int(number.strip()) for number in numbers]\n",
    "  [deq.append(num) for num in digits if num >= 0]\n",
    "  digits.reverse()\n",
    "  [deq.appendleft(num) for num in digits if num < 0]\n",
    "  # вызов функции сохранения в файл\n",
    "  save_to_file(\"test7.txt\", deq.items)\n",
    "  while not deq.isEmpty():\n",
    "    print(deq.popleft())\n",
    "# вызов функции чтения из файл\n",
    "numbers = read_file(\"task7.txt\")\n",
    "sort_digits(numbers)"
   ]
  },
  {
   "cell_type": "code",
   "execution_count": null,
   "id": "37ae0cf8-175d-4363-bab1-9be04214c8c4",
   "metadata": {},
   "outputs": [],
   "source": [
    "### Задание №8\n",
    "Дан текстовый файл. Используя стек, сформировать новый текстовый файл, содержащий строки исходного файла, записанные в обратном порядке: первая строка становится последней, вторая – предпоследней и т.д.\n"
   ]
  },
  {
   "cell_type": "code",
   "execution_count": 10,
   "id": "9f237e27-f1f6-4d3c-be64-5197691bf615",
   "metadata": {},
   "outputs": [
    {
     "name": "stdout",
     "output_type": "stream",
     "text": [
      "Четвертая Часть\n",
      "Третья Часть\n",
      "Вторая Часть\n",
      "Первая Часть\n"
     ]
    }
   ],
   "source": [
    "def reverse_strings(input_file_path):\n",
    "    phrases = Stack()\n",
    "    [phrases.push(string) for string in strings]\n",
    "    phrases.reverse()\n",
    "    # вызов функции сохранения в файл\n",
    "    save_to_file(\"test8.txt\", phrases.items)\n",
    "    phrases.reverse()\n",
    "    # вывод на экран\n",
    "    while not phrases.isEmpty():\n",
    "        print(phrases.pop())\n",
    "# вызов функции чтения из файл\n",
    "strings = read_file(\"task8.txt\")\n",
    "reverse_strings(strings)"
   ]
  },
  {
   "cell_type": "code",
   "execution_count": null,
   "id": "8403ca05-8215-45ba-abe0-2d5efedb46ae",
   "metadata": {},
   "outputs": [],
   "source": [
    "### Вывод"
   ]
  },
  {
   "cell_type": "code",
   "execution_count": null,
   "id": "dae9b13b-c04e-4905-ac4e-43dab998346c",
   "metadata": {},
   "outputs": [],
   "source": [
    "Разработал программы обработки данных, содержащихся в заранее подготовленном txt-файле, в соответствии с заданиями, применив указанную в задании структуру данных. Результат работы программ вывел на экран и сохранил в отдельном txt-файле.\n"
   ]
  }
 ],
 "metadata": {
  "kernelspec": {
   "display_name": "Python 3 (ipykernel)",
   "language": "python",
   "name": "python3"
  },
  "language_info": {
   "codemirror_mode": {
    "name": "ipython",
    "version": 3
   },
   "file_extension": ".py",
   "mimetype": "text/x-python",
   "name": "python",
   "nbconvert_exporter": "python",
   "pygments_lexer": "ipython3",
   "version": "3.11.7"
  }
 },
 "nbformat": 4,
 "nbformat_minor": 5
}
